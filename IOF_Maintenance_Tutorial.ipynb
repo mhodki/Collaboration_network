{
  "nbformat": 4,
  "nbformat_minor": 0,
  "metadata": {
    "colab": {
      "provenance": [],
      "collapsed_sections": [
        "8L1tiN6GJED5"
      ],
      "include_colab_link": true
    },
    "kernelspec": {
      "name": "python3",
      "display_name": "Python 3"
    },
    "language_info": {
      "name": "python"
    }
  },
  "cells": [
    {
      "cell_type": "markdown",
      "metadata": {
        "id": "view-in-github",
        "colab_type": "text"
      },
      "source": [
        "<a href=\"https://colab.research.google.com/github/mhodki/Collaboration_network/blob/main/IOF_Maintenance_Tutorial.ipynb\" target=\"_parent\"><img src=\"https://colab.research.google.com/assets/colab-badge.svg\" alt=\"Open In Colab\"/></a>"
      ]
    },
    {
      "cell_type": "markdown",
      "source": [
        "# IOF Maintenance Ontology Tutorial"
      ],
      "metadata": {
        "id": "LPFflUJWEHtV"
      }
    },
    {
      "cell_type": "markdown",
      "source": [
        "## Notebook Setup\n",
        "\n",
        "Firstly, we need to clone the materials from the Paper Archice Maintenance Activity repository on Github. This contains the MWO data, reference ontology for maintenance activity terms, an application-level ontology for identifying data quality issues in MWOs, a script to populate the ontology with MWO data, and a reasoning script."
      ],
      "metadata": {
        "id": "NuCG0KqSErCg"
      }
    },
    {
      "cell_type": "code",
      "source": [
        "!git clone https://github.com/uwasystemhealth/Paper_Archive_Maintenance_Activity.git"
      ],
      "metadata": {
        "colab": {
          "base_uri": "https://localhost:8080/"
        },
        "id": "0DGi6DWofwoy",
        "outputId": "c2acdcbd-9158-470b-d508-6c47ffd7790f"
      },
      "execution_count": 1,
      "outputs": [
        {
          "output_type": "stream",
          "name": "stdout",
          "text": [
            "Cloning into 'Paper_Archive_Maintenance_Activity'...\n",
            "remote: Enumerating objects: 845, done.\u001b[K\n",
            "remote: Counting objects: 100% (215/215), done.\u001b[K\n",
            "remote: Compressing objects: 100% (89/89), done.\u001b[K\n",
            "remote: Total 845 (delta 148), reused 178 (delta 123), pack-reused 630\u001b[K\n",
            "Receiving objects: 100% (845/845), 1.78 MiB | 3.42 MiB/s, done.\n",
            "Resolving deltas: 100% (651/651), done.\n"
          ]
        }
      ]
    },
    {
      "cell_type": "markdown",
      "source": [
        "Also import the required packages. This tutorial uses owlready to interface with the maintenance ontologies."
      ],
      "metadata": {
        "id": "RzIBVt9qTq3B"
      }
    },
    {
      "cell_type": "code",
      "source": [
        "%%capture\n",
        "%pip install OwlReady2\n",
        "from owlready2 import *\n",
        "import pandas as pd\n",
        "from datetime import date\n",
        "from numpy import place\n",
        "import dateutil.parser as parser\n",
        "from typing import List\n",
        "import subprocess\n",
        "import os\n",
        "import sys\n"
      ],
      "metadata": {
        "id": "0S1_UHYCEoRy"
      },
      "execution_count": 2,
      "outputs": []
    },
    {
      "cell_type": "markdown",
      "source": [
        "### MWO Data\n",
        "\n",
        "The load_data function uses the pandas library to read the MWO data from an Excel sheet into a DataFrame."
      ],
      "metadata": {
        "id": "Por6UgdVfza9"
      }
    },
    {
      "cell_type": "code",
      "source": [
        "def load_data(input_data_sheet_path):\n",
        "    # Read excel data into dataframe\n",
        "    df = pd.read_excel(input_data_sheet_path)\n",
        "    print('Sucessfully loaded data')\n",
        "    return df"
      ],
      "metadata": {
        "id": "7Gx8lW4-exLE"
      },
      "execution_count": 3,
      "outputs": []
    },
    {
      "cell_type": "code",
      "source": [
        "input_data_sheet_path = \"/content/Paper_Archive_Maintenance_Activity/population_script/data.xlsx\"\n",
        "\n",
        "data_frame = load_data(input_data_sheet_path)\n",
        "\n",
        "data_frame.head()"
      ],
      "metadata": {
        "colab": {
          "base_uri": "https://localhost:8080/",
          "height": 224
        },
        "id": "S24aO2rsfuPM",
        "outputId": "5cf8f32e-ef66-44e7-bc7b-a7f21997db37"
      },
      "execution_count": 4,
      "outputs": [
        {
          "output_type": "stream",
          "name": "stdout",
          "text": [
            "Sucessfully loaded data\n"
          ]
        },
        {
          "output_type": "execute_result",
          "data": {
            "text/plain": [
              "   ID        Date          Unstructured Text NLP Identified Item  \\\n",
              "0   1  2012-10-18  pressure switch undersize     pressure switch   \n",
              "1   2  2013-02-14     remove pressure switch     pressure switch   \n",
              "2   3  2013-03-19  calibrate pressure switch     pressure switch   \n",
              "3   4  2013-04-29      pump not pumping well                pump   \n",
              "4   5  2013-05-21    pressure switch leaking     pressure switch   \n",
              "\n",
              "  NLP Identified Activity  NLP Identified Subunit Work Order Type  Labor Cost  \\\n",
              "0                    none  control and monitoring      corrective      560.96   \n",
              "1                  remove  control and monitoring      corrective     1292.13   \n",
              "2               calibrate  control and monitoring      corrective      413.48   \n",
              "3                    none               pump unit      corrective      516.85   \n",
              "4                    none  control and monitoring      corrective      560.96   \n",
              "\n",
              "   Material Cost Correct Class (from logic tree)  \n",
              "0         821.74                  repair/replace  \n",
              "1         711.11                  repair/replace  \n",
              "2           0.00               adjust/ calibrate  \n",
              "3           0.00                        diagnose  \n",
              "4         700.00                 repair/ replace  "
            ],
            "text/html": [
              "\n",
              "  <div id=\"df-9bd17c70-c773-42f0-a2cc-963a3b226c5b\" class=\"colab-df-container\">\n",
              "    <div>\n",
              "<style scoped>\n",
              "    .dataframe tbody tr th:only-of-type {\n",
              "        vertical-align: middle;\n",
              "    }\n",
              "\n",
              "    .dataframe tbody tr th {\n",
              "        vertical-align: top;\n",
              "    }\n",
              "\n",
              "    .dataframe thead th {\n",
              "        text-align: right;\n",
              "    }\n",
              "</style>\n",
              "<table border=\"1\" class=\"dataframe\">\n",
              "  <thead>\n",
              "    <tr style=\"text-align: right;\">\n",
              "      <th></th>\n",
              "      <th>ID</th>\n",
              "      <th>Date</th>\n",
              "      <th>Unstructured Text</th>\n",
              "      <th>NLP Identified Item</th>\n",
              "      <th>NLP Identified Activity</th>\n",
              "      <th>NLP Identified Subunit</th>\n",
              "      <th>Work Order Type</th>\n",
              "      <th>Labor Cost</th>\n",
              "      <th>Material Cost</th>\n",
              "      <th>Correct Class (from logic tree)</th>\n",
              "    </tr>\n",
              "  </thead>\n",
              "  <tbody>\n",
              "    <tr>\n",
              "      <th>0</th>\n",
              "      <td>1</td>\n",
              "      <td>2012-10-18</td>\n",
              "      <td>pressure switch undersize</td>\n",
              "      <td>pressure switch</td>\n",
              "      <td>none</td>\n",
              "      <td>control and monitoring</td>\n",
              "      <td>corrective</td>\n",
              "      <td>560.96</td>\n",
              "      <td>821.74</td>\n",
              "      <td>repair/replace</td>\n",
              "    </tr>\n",
              "    <tr>\n",
              "      <th>1</th>\n",
              "      <td>2</td>\n",
              "      <td>2013-02-14</td>\n",
              "      <td>remove pressure switch</td>\n",
              "      <td>pressure switch</td>\n",
              "      <td>remove</td>\n",
              "      <td>control and monitoring</td>\n",
              "      <td>corrective</td>\n",
              "      <td>1292.13</td>\n",
              "      <td>711.11</td>\n",
              "      <td>repair/replace</td>\n",
              "    </tr>\n",
              "    <tr>\n",
              "      <th>2</th>\n",
              "      <td>3</td>\n",
              "      <td>2013-03-19</td>\n",
              "      <td>calibrate pressure switch</td>\n",
              "      <td>pressure switch</td>\n",
              "      <td>calibrate</td>\n",
              "      <td>control and monitoring</td>\n",
              "      <td>corrective</td>\n",
              "      <td>413.48</td>\n",
              "      <td>0.00</td>\n",
              "      <td>adjust/ calibrate</td>\n",
              "    </tr>\n",
              "    <tr>\n",
              "      <th>3</th>\n",
              "      <td>4</td>\n",
              "      <td>2013-04-29</td>\n",
              "      <td>pump not pumping well</td>\n",
              "      <td>pump</td>\n",
              "      <td>none</td>\n",
              "      <td>pump unit</td>\n",
              "      <td>corrective</td>\n",
              "      <td>516.85</td>\n",
              "      <td>0.00</td>\n",
              "      <td>diagnose</td>\n",
              "    </tr>\n",
              "    <tr>\n",
              "      <th>4</th>\n",
              "      <td>5</td>\n",
              "      <td>2013-05-21</td>\n",
              "      <td>pressure switch leaking</td>\n",
              "      <td>pressure switch</td>\n",
              "      <td>none</td>\n",
              "      <td>control and monitoring</td>\n",
              "      <td>corrective</td>\n",
              "      <td>560.96</td>\n",
              "      <td>700.00</td>\n",
              "      <td>repair/ replace</td>\n",
              "    </tr>\n",
              "  </tbody>\n",
              "</table>\n",
              "</div>\n",
              "    <div class=\"colab-df-buttons\">\n",
              "\n",
              "  <div class=\"colab-df-container\">\n",
              "    <button class=\"colab-df-convert\" onclick=\"convertToInteractive('df-9bd17c70-c773-42f0-a2cc-963a3b226c5b')\"\n",
              "            title=\"Convert this dataframe to an interactive table.\"\n",
              "            style=\"display:none;\">\n",
              "\n",
              "  <svg xmlns=\"http://www.w3.org/2000/svg\" height=\"24px\" viewBox=\"0 -960 960 960\">\n",
              "    <path d=\"M120-120v-720h720v720H120Zm60-500h600v-160H180v160Zm220 220h160v-160H400v160Zm0 220h160v-160H400v160ZM180-400h160v-160H180v160Zm440 0h160v-160H620v160ZM180-180h160v-160H180v160Zm440 0h160v-160H620v160Z\"/>\n",
              "  </svg>\n",
              "    </button>\n",
              "\n",
              "  <style>\n",
              "    .colab-df-container {\n",
              "      display:flex;\n",
              "      gap: 12px;\n",
              "    }\n",
              "\n",
              "    .colab-df-convert {\n",
              "      background-color: #E8F0FE;\n",
              "      border: none;\n",
              "      border-radius: 50%;\n",
              "      cursor: pointer;\n",
              "      display: none;\n",
              "      fill: #1967D2;\n",
              "      height: 32px;\n",
              "      padding: 0 0 0 0;\n",
              "      width: 32px;\n",
              "    }\n",
              "\n",
              "    .colab-df-convert:hover {\n",
              "      background-color: #E2EBFA;\n",
              "      box-shadow: 0px 1px 2px rgba(60, 64, 67, 0.3), 0px 1px 3px 1px rgba(60, 64, 67, 0.15);\n",
              "      fill: #174EA6;\n",
              "    }\n",
              "\n",
              "    .colab-df-buttons div {\n",
              "      margin-bottom: 4px;\n",
              "    }\n",
              "\n",
              "    [theme=dark] .colab-df-convert {\n",
              "      background-color: #3B4455;\n",
              "      fill: #D2E3FC;\n",
              "    }\n",
              "\n",
              "    [theme=dark] .colab-df-convert:hover {\n",
              "      background-color: #434B5C;\n",
              "      box-shadow: 0px 1px 3px 1px rgba(0, 0, 0, 0.15);\n",
              "      filter: drop-shadow(0px 1px 2px rgba(0, 0, 0, 0.3));\n",
              "      fill: #FFFFFF;\n",
              "    }\n",
              "  </style>\n",
              "\n",
              "    <script>\n",
              "      const buttonEl =\n",
              "        document.querySelector('#df-9bd17c70-c773-42f0-a2cc-963a3b226c5b button.colab-df-convert');\n",
              "      buttonEl.style.display =\n",
              "        google.colab.kernel.accessAllowed ? 'block' : 'none';\n",
              "\n",
              "      async function convertToInteractive(key) {\n",
              "        const element = document.querySelector('#df-9bd17c70-c773-42f0-a2cc-963a3b226c5b');\n",
              "        const dataTable =\n",
              "          await google.colab.kernel.invokeFunction('convertToInteractive',\n",
              "                                                    [key], {});\n",
              "        if (!dataTable) return;\n",
              "\n",
              "        const docLinkHtml = 'Like what you see? Visit the ' +\n",
              "          '<a target=\"_blank\" href=https://colab.research.google.com/notebooks/data_table.ipynb>data table notebook</a>'\n",
              "          + ' to learn more about interactive tables.';\n",
              "        element.innerHTML = '';\n",
              "        dataTable['output_type'] = 'display_data';\n",
              "        await google.colab.output.renderOutput(dataTable, element);\n",
              "        const docLink = document.createElement('div');\n",
              "        docLink.innerHTML = docLinkHtml;\n",
              "        element.appendChild(docLink);\n",
              "      }\n",
              "    </script>\n",
              "  </div>\n",
              "\n",
              "\n",
              "<div id=\"df-b1273c79-84fa-4b36-918e-fb1f576a5677\">\n",
              "  <button class=\"colab-df-quickchart\" onclick=\"quickchart('df-b1273c79-84fa-4b36-918e-fb1f576a5677')\"\n",
              "            title=\"Suggest charts\"\n",
              "            style=\"display:none;\">\n",
              "\n",
              "<svg xmlns=\"http://www.w3.org/2000/svg\" height=\"24px\"viewBox=\"0 0 24 24\"\n",
              "     width=\"24px\">\n",
              "    <g>\n",
              "        <path d=\"M19 3H5c-1.1 0-2 .9-2 2v14c0 1.1.9 2 2 2h14c1.1 0 2-.9 2-2V5c0-1.1-.9-2-2-2zM9 17H7v-7h2v7zm4 0h-2V7h2v10zm4 0h-2v-4h2v4z\"/>\n",
              "    </g>\n",
              "</svg>\n",
              "  </button>\n",
              "\n",
              "<style>\n",
              "  .colab-df-quickchart {\n",
              "      --bg-color: #E8F0FE;\n",
              "      --fill-color: #1967D2;\n",
              "      --hover-bg-color: #E2EBFA;\n",
              "      --hover-fill-color: #174EA6;\n",
              "      --disabled-fill-color: #AAA;\n",
              "      --disabled-bg-color: #DDD;\n",
              "  }\n",
              "\n",
              "  [theme=dark] .colab-df-quickchart {\n",
              "      --bg-color: #3B4455;\n",
              "      --fill-color: #D2E3FC;\n",
              "      --hover-bg-color: #434B5C;\n",
              "      --hover-fill-color: #FFFFFF;\n",
              "      --disabled-bg-color: #3B4455;\n",
              "      --disabled-fill-color: #666;\n",
              "  }\n",
              "\n",
              "  .colab-df-quickchart {\n",
              "    background-color: var(--bg-color);\n",
              "    border: none;\n",
              "    border-radius: 50%;\n",
              "    cursor: pointer;\n",
              "    display: none;\n",
              "    fill: var(--fill-color);\n",
              "    height: 32px;\n",
              "    padding: 0;\n",
              "    width: 32px;\n",
              "  }\n",
              "\n",
              "  .colab-df-quickchart:hover {\n",
              "    background-color: var(--hover-bg-color);\n",
              "    box-shadow: 0 1px 2px rgba(60, 64, 67, 0.3), 0 1px 3px 1px rgba(60, 64, 67, 0.15);\n",
              "    fill: var(--button-hover-fill-color);\n",
              "  }\n",
              "\n",
              "  .colab-df-quickchart-complete:disabled,\n",
              "  .colab-df-quickchart-complete:disabled:hover {\n",
              "    background-color: var(--disabled-bg-color);\n",
              "    fill: var(--disabled-fill-color);\n",
              "    box-shadow: none;\n",
              "  }\n",
              "\n",
              "  .colab-df-spinner {\n",
              "    border: 2px solid var(--fill-color);\n",
              "    border-color: transparent;\n",
              "    border-bottom-color: var(--fill-color);\n",
              "    animation:\n",
              "      spin 1s steps(1) infinite;\n",
              "  }\n",
              "\n",
              "  @keyframes spin {\n",
              "    0% {\n",
              "      border-color: transparent;\n",
              "      border-bottom-color: var(--fill-color);\n",
              "      border-left-color: var(--fill-color);\n",
              "    }\n",
              "    20% {\n",
              "      border-color: transparent;\n",
              "      border-left-color: var(--fill-color);\n",
              "      border-top-color: var(--fill-color);\n",
              "    }\n",
              "    30% {\n",
              "      border-color: transparent;\n",
              "      border-left-color: var(--fill-color);\n",
              "      border-top-color: var(--fill-color);\n",
              "      border-right-color: var(--fill-color);\n",
              "    }\n",
              "    40% {\n",
              "      border-color: transparent;\n",
              "      border-right-color: var(--fill-color);\n",
              "      border-top-color: var(--fill-color);\n",
              "    }\n",
              "    60% {\n",
              "      border-color: transparent;\n",
              "      border-right-color: var(--fill-color);\n",
              "    }\n",
              "    80% {\n",
              "      border-color: transparent;\n",
              "      border-right-color: var(--fill-color);\n",
              "      border-bottom-color: var(--fill-color);\n",
              "    }\n",
              "    90% {\n",
              "      border-color: transparent;\n",
              "      border-bottom-color: var(--fill-color);\n",
              "    }\n",
              "  }\n",
              "</style>\n",
              "\n",
              "  <script>\n",
              "    async function quickchart(key) {\n",
              "      const quickchartButtonEl =\n",
              "        document.querySelector('#' + key + ' button');\n",
              "      quickchartButtonEl.disabled = true;  // To prevent multiple clicks.\n",
              "      quickchartButtonEl.classList.add('colab-df-spinner');\n",
              "      try {\n",
              "        const charts = await google.colab.kernel.invokeFunction(\n",
              "            'suggestCharts', [key], {});\n",
              "      } catch (error) {\n",
              "        console.error('Error during call to suggestCharts:', error);\n",
              "      }\n",
              "      quickchartButtonEl.classList.remove('colab-df-spinner');\n",
              "      quickchartButtonEl.classList.add('colab-df-quickchart-complete');\n",
              "    }\n",
              "    (() => {\n",
              "      let quickchartButtonEl =\n",
              "        document.querySelector('#df-b1273c79-84fa-4b36-918e-fb1f576a5677 button');\n",
              "      quickchartButtonEl.style.display =\n",
              "        google.colab.kernel.accessAllowed ? 'block' : 'none';\n",
              "    })();\n",
              "  </script>\n",
              "</div>\n",
              "\n",
              "    </div>\n",
              "  </div>\n"
            ]
          },
          "metadata": {},
          "execution_count": 4
        }
      ]
    },
    {
      "cell_type": "markdown",
      "source": [
        "(Taken from paper)\n",
        "\n",
        "The dataframe above contains a set of MWOs for a single functional location for a single pump in a process plant from 2012-2020. There are hundreds of other similar pumps in this facility.\n",
        "\n",
        "Columns 2-3 and 6-8 are representative of a data set a reliability engineer would normally work with. These fields are usually of most interest to the reliability engineer and are often the most readily available as reports downloadable as CSV files from the computerised maintenance management system (CMMS). The first column contains an ID to assist us with discussions of the data set and the analysis thereof. The second column contains a date, in this case we have selected the date on which the work was started. The third column contains the unstructured text describing the work and is subject to natural language processing.  The sixth column describes the work order type as either corrective or preventative and the final two columns contain the labour and material costs; referring to Table~\\ref{tab:MWOrecord}, only one of labour hours or labour costs is required, in this case the records include cost, while material cost is equivalent to the actual parts cost."
      ],
      "metadata": {
        "id": "MfReAi1mewMC"
      }
    },
    {
      "cell_type": "markdown",
      "source": [
        "### Reference Ontology\n",
        "\n",
        "The reference ontology is implemented in OWL and contains the seven core activities that are typically performed in maintenance; adjust, calibrate, diagnose, inspect, repair, replace, and service.\n",
        "\n",
        "![ref_onto.png](data:image/png;base64,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)"
      ],
      "metadata": {
        "id": "Bj-O2MHnxYsS"
      }
    },
    {
      "cell_type": "markdown",
      "source": [],
      "metadata": {
        "id": "5BqAjSdLaVhU"
      }
    },
    {
      "cell_type": "markdown",
      "source": [
        "### Application-level Ontology\n",
        "\n",
        "The purpose of the application level ontology is to demonstrate the use of the reference ontology in a real-world industrial case of MWO data quality. For data quality purposes, the goal is to determine if the activity terms classified by the ontology is consistent with activity term classified manually by a subject matter expert based on information in the MWO.\n",
        "\n",
        "The application-level ontology consists of a set of modular, inter-operable ontologies:\n",
        "\n",
        "1.   **Data:**\n",
        "\n",
        " Contains individuals extracted from MWO data\n",
        "\n",
        "2.   **Maintenance Activity Classification Rules:**\n",
        "\n",
        "  Contains SWRL rules, and additional activity classifiers, used to perform activity classifications\n",
        "\n",
        "3.   **Work Order Ontology:**\n",
        "\n",
        "  Contains notions related to MWOs (i.e. Maintenance Work Order Record, Maintenance Work Order Record Data Item, Work Order Execution Process)\n",
        "\n",
        "4.   **Functional Breakdown Pump Ontology:**\n",
        "\n",
        "  Imports the assets contained in the Asset List Ontology and divides them into into the subunits shown in Table 4.\n",
        "\n",
        "5.   **Asset List:**\n",
        "\n",
        "  Contains a list of material artifact classes in a centrifugal pump (e.g. Mechanical Seal).\n",
        "  \n",
        "6.   **Maintenance Activity Reference Ontology:**\n",
        "\n",
        "  The reference ontology for maintenance activities\n",
        "\n",
        "7.   **IOF Core Ontology:**\n",
        "\n",
        "  The IOF Core Reference Ontology\n",
        "\n",
        "8.   **IOF Annotation Vocabularly Ontology:**\n",
        "\n",
        "  The IOF Annotation Vocabulary (includes Synonym, for example) Ontology\n",
        "\n",
        "9.   **BFO:**\n",
        "\n",
        "  The Basic Formal Ontology, used as a foundational ontology\n",
        "\n",
        "The diagram below explains the import structure of the application level ontology.\n"
      ],
      "metadata": {
        "id": "cng4FaXgxl7J"
      }
    },
    {
      "cell_type": "markdown",
      "source": [
        "![import_structure.png](data:image/png;base64,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)"
      ],
      "metadata": {
        "id": "bfk2aCUIyqIN"
      }
    },
    {
      "cell_type": "markdown",
      "source": [
        "## Populate Ontology with MWO Data"
      ],
      "metadata": {
        "id": "ZMjAoSUb23Tn"
      }
    },
    {
      "cell_type": "markdown",
      "source": [
        "The first step to addressing the use case is to populate the application ontology with the MWO data."
      ],
      "metadata": {
        "id": "bODq-mAD3i6d"
      }
    },
    {
      "cell_type": "markdown",
      "source": [
        "### Setup Enviroment\n",
        "\n",
        "Global variables are initialized to store references to the set of ontologies and their namespaces. These will be used throughout the notebook for ontology manipulation.\n",
        "\n",
        "Pump_number is set to '001', indicating the pump number being processed in our use case."
      ],
      "metadata": {
        "id": "t4Cz1rLvIgEw"
      }
    },
    {
      "cell_type": "code",
      "source": [
        "# Set global ontology variables\n",
        "\n",
        "bfo_onto = None\n",
        "iof_annotation_onto = None\n",
        "iof_core_onto = None\n",
        "functional_breakdown_onto = None\n",
        "asset_list_onto = None\n",
        "maintenance_activity_onto = None\n",
        "work_order_onto = None\n",
        "maint_activity_classification_rules_onto = None\n",
        "onto = None\n",
        "\n",
        "# Set ontology namsepaces\n",
        "obo = None\n",
        "mar = None\n",
        "al = None\n",
        "fb = None\n",
        "ma = None\n",
        "owl = None\n",
        "wo = None\n",
        "core = None\n",
        "\n",
        "# Pump number in our use case\n",
        "pump_number = '001'"
      ],
      "metadata": {
        "id": "mP07bGbrEwGO"
      },
      "execution_count": 5,
      "outputs": []
    },
    {
      "cell_type": "markdown",
      "source": [
        "### Loading Ontologies\n",
        "The load_ontology function is responsible for loading the set of ontologies and establishing their namespaces.\n",
        "\n",
        "Firstly, however, we must change directories into the population directory."
      ],
      "metadata": {
        "id": "1kPbOVgfHc52"
      }
    },
    {
      "cell_type": "code",
      "source": [
        "# Specify the directory containing the runner.py script\n",
        "directory_path = \"/content/Paper_Archive_Maintenance_Activity/population_script/\"\n",
        "\n",
        "# Change the current working directory\n",
        "os.chdir(directory_path)"
      ],
      "metadata": {
        "id": "deYO8auP5nRg"
      },
      "execution_count": 6,
      "outputs": []
    },
    {
      "cell_type": "code",
      "source": [
        "def load_ontology():\n",
        "    global bfo_onto, iof_annotation_onto, iof_core_onto, functional_breakdown_onto, asset_list_onto, maintenance_activity_onto, work_order_onto, maint_activity_classification_rules_onto, onto\n",
        "    global obo, mar, ma, fb, al, owl, wo, core\n",
        "\n",
        "    # Path to ontology files\n",
        "    onto_path.append('../imports')\n",
        "\n",
        "    # Load ontologies\n",
        "    bfo_onto = get_ontology(\"bfo-v2.owl\").load()\n",
        "    iof_annotation_onto = get_ontology(\"IOF_AnnotationsVocabulary.rdf\").load()\n",
        "    iof_core_onto = get_ontology(\"IOF.owl\").load()\n",
        "    onto_path.append('../')\n",
        "    asset_list_onto = get_ontology(\"asset-list-ontology.owl\").load()\n",
        "    functional_breakdown_onto = get_ontology(\"functional-breakdown-pump-ontology.owl\").load()\n",
        "    work_order_onto = get_ontology(\"work-order-ontology.owl\").load()\n",
        "    maintenance_activity_onto = get_ontology(\"maintenance-activity.owl\").load()\n",
        "    maint_activity_classification_rules_onto = get_ontology(\"activity-classification-rules.owl\").load()\n",
        "    # onto = None\n",
        "    onto = get_ontology(\"asset-data.owl\").load()\n",
        "\n",
        "    # Set up namespaces\n",
        "    obo = bfo_onto.get_namespace(\"http://purl.obolibrary.org/obo/\")\n",
        "    mar = onto.get_namespace(\"http://www.semanticweb.org/maintenance-activity-classification-rules#\")\n",
        "    al = asset_list_onto.get_namespace('http://www.semanticweb.org/asset-list-ontology#')\n",
        "    fb = functional_breakdown_onto.get_namespace('http://www.semanticweb.org/functional-breakdown-pump-ontology#')\n",
        "    ma = maintenance_activity_onto.get_namespace('http://www.semanticweb.org/maintenance-activity#')\n",
        "    owl = onto.get_namespace('http://www.w3.org/2002/07/owl#')\n",
        "    wo = work_order_onto.get_namespace('http://www.semanticweb.org/work-order-ontology#')\n",
        "    core = iof_core_onto.get_namespace('http://www.industrialontologies.org/core/')\n",
        "    print('Sucessfully loaded ontologies and set namespaces!')\n"
      ],
      "metadata": {
        "id": "1tNp8g3THcKu"
      },
      "execution_count": 7,
      "outputs": []
    },
    {
      "cell_type": "code",
      "source": [
        "load_ontology()"
      ],
      "metadata": {
        "colab": {
          "base_uri": "https://localhost:8080/"
        },
        "id": "7P_jcYpOTEKN",
        "outputId": "540eaff2-53e1-4530-e961-93db5a360670"
      },
      "execution_count": 8,
      "outputs": [
        {
          "output_type": "stream",
          "name": "stdout",
          "text": [
            "Sucessfully loaded ontologies and set namespaces!\n"
          ]
        }
      ]
    },
    {
      "cell_type": "markdown",
      "source": [
        "### Populating the Ontology\n",
        "\n",
        "The populate_single() function populates the ontology with data from a single MWO. It relies on various helper functions to retrieve or create ontology individuals for work order details (date, description, functional location, etc.)."
      ],
      "metadata": {
        "id": "xs0wPZ94I8uG"
      }
    },
    {
      "cell_type": "markdown",
      "source": [
        "#### Helper Functions\n"
      ],
      "metadata": {
        "id": "90SVap26Qkzx"
      }
    },
    {
      "cell_type": "code",
      "source": [
        "def select_sub_unit(sub_unit):\n",
        "    individual_map = [\n",
        "        ['control and monitoring', 'pump_'+pump_number+'_control_and_monitoring'],\n",
        "        ['lubrication', 'pump_'+pump_number+'_lub_system'],\n",
        "        ['pump unit', 'pump_'+pump_number+'unit'],\n",
        "        ['driver and electrical', 'pump_'+pump_number+'_driver_system'],\n",
        "        ['power transmission', 'pump_'+pump_number+'_power_transmission'],\n",
        "        ['piping and valves', 'pump_'+pump_number+'_piping_system'],\n",
        "    ]\n",
        "    # get first column from 2d array\n",
        "    index = [x[0] for x in individual_map].index(sub_unit)\n",
        "    return individual_map[index][1]\n",
        "\n",
        "\n",
        "def select_item(item):\n",
        "    individual_map = [\n",
        "        ['oil', 'oil_'+pump_number],\n",
        "        ['flowmeter', 'flow_meter_'+pump_number],\n",
        "        ['pump', 'pump_'+pump_number],\n",
        "        ['pressure switch', 'pressure_switch_'+pump_number],\n",
        "        ['valve', 'valve_'+pump_number],\n",
        "        ['motor', 'motor_'+pump_number],\n",
        "        ['mechanical seal', 'seal_'+pump_number],\n",
        "    ]\n",
        "    index = [x[0] for x in individual_map].index(item)\n",
        "    return individual_map[index][1]\n",
        "\n",
        "\n",
        "def add_work_order_started_date_individual(row, mwo_name):\n",
        "    date_name = mwo_name+\"_started_date\"\n",
        "    input_date = parser.parse(row['Date']).isoformat()\n",
        "    date_value = \"\"\n",
        "    date_value = datetime.datetime.strptime(input_date, \"%Y-%m-%dT%H:%M:%S\")\n",
        "    with onto:\n",
        "        date = wo.WorkOrderStartedDate(date_name)\n",
        "        date.hasValue.append(date_value)\n",
        "        return date\n",
        "\n",
        "\n",
        "def add_work_order_description_individual(row, mwo_name):\n",
        "    description_name = mwo_name+\"_description\"\n",
        "    description_value = row['Unstructured Text']\n",
        "    with onto:\n",
        "        description = wo.WorkOrderDescriptionText(description_name)\n",
        "        description.hasValue.append(description_value)\n",
        "        description.nlpIdentifiedActivity.append(\n",
        "            row['NLP Identified Activity'])\n",
        "        item_string = format_item(row['NLP Identified Item'])\n",
        "        description.nlpIdentifiedItem.append(al[item_string])\n",
        "        sub_unit_string = format_item(row['NLP Identified Subunit']) + \"System\"\n",
        "        description.nlpIdentifiedSubunit.append(fb[sub_unit_string])\n",
        "    return description\n",
        "\n",
        "\n",
        "def format_item(item_string):\n",
        "    return \"\".join(x.capitalize() or ' ' for x in item_string.split(\" \"))\n",
        "\n",
        "\n",
        "def add_functional_location_tag_individual(row, mwo_name, item):\n",
        "    functional_location_tag_name = mwo_name+\"_functional_location_tag\"\n",
        "    with onto:\n",
        "        functional_location_tag = wo.WorkOrderFunctionalLocationTag(\n",
        "            functional_location_tag_name)\n",
        "        functional_location_tag.hasValue.append('PU001')\n",
        "        functional_location_tag.refersTo.append(onto[item])\n",
        "        return functional_location_tag\n",
        "\n",
        "\n",
        "def add_labour_cost(row, mwo_name):\n",
        "    labour_cost_name = mwo_name+\"_labour_cost\"\n",
        "    labour_cost_value = int(row['Labor Cost'])\n",
        "    with onto:\n",
        "        labour_cost = wo.WorkOrderLabourCost(labour_cost_name)\n",
        "        labour_cost.hasValue.append(labour_cost_value)\n",
        "        return labour_cost\n",
        "\n",
        "\n",
        "def add_material_cost(row, mwo_name):\n",
        "    material_cost_name = mwo_name+\"_material_cost\"\n",
        "    material_cost_value = int(row['Material Cost'])\n",
        "    with onto:\n",
        "        material_cost = wo.WorkOrderMaterialCost(material_cost_name)\n",
        "        material_cost.hasValue.append(material_cost_value)\n",
        "        return material_cost\n",
        "\n",
        "\n",
        "def add_maintenance_type(row, mwo_name):\n",
        "    maintenance_type_name = mwo_name+\"_maintenance_type\"\n",
        "    maintenance_type_value = row['Work Order Type']\n",
        "    with onto:\n",
        "        maintenance_type_value_string = 'WorkOrder' + \\\n",
        "            maintenance_type_value.capitalize() + 'Maintenance'\n",
        "        maintenance_type = wo.WorkOrderMaintenanceType(\n",
        "            maintenance_type_name)\n",
        "        maintenance_type = wo[maintenance_type_value_string](\n",
        "            maintenance_type_name)\n",
        "        return maintenance_type\n",
        "\n",
        "\n",
        "def add_activity_individual(row, mwo_name):\n",
        "    activity_name = mwo_name+\"_activity\"\n",
        "    with onto:\n",
        "        activity = owl.Thing(activity_name)\n",
        "        activity.is_a.append(\n",
        "            Or([ma.MaintenanceActivity, ma.SupportingActivity]))\n",
        "        # hack to create activity without owl:Thing\n",
        "        activity.is_a.remove(activity.is_a[0])\n",
        "        return activity\n",
        "\n",
        "\n",
        "def add_wo_execution_event(row, mwo_name, activity, item):\n",
        "    wo_execution_event_name = mwo_name+\"_wo_execution_event\"\n",
        "    with onto:\n",
        "        wo_execution_event = wo.WorkOrderExecutionProcess(\n",
        "            wo_execution_event_name)\n",
        "        wo_execution_event.BFO_0000117.append(activity)\n",
        "        wo_execution_event.BFO_0000057.append(onto[item])\n",
        "        return wo_execution_event"
      ],
      "metadata": {
        "id": "cWyCcMsEQn-J"
      },
      "execution_count": 9,
      "outputs": []
    },
    {
      "cell_type": "markdown",
      "source": [
        "#### Populate MWO function\n",
        "\n",
        "The following creates a data object in OWLReady using the data formatted in the previous section. Later on OWLReady converts this data object to an OWL file."
      ],
      "metadata": {
        "id": "xgYBm9hz8kRA"
      }
    },
    {
      "cell_type": "code",
      "source": [
        "def populate_single(index, row):\n",
        "\n",
        "    print(f'Populating MWO {index}')\n",
        "    # sub_unit_indiv = select_sub_unit(row['NLP Identified Subunit'])\n",
        "    item_indiv = select_item(row['NLP Identified Item'])\n",
        "\n",
        "    mwo_name = \"MWO-\"+str(row['ID'])\n",
        "    date = add_work_order_started_date_individual(row, mwo_name)\n",
        "    work_order = add_work_order_description_individual(row, mwo_name)\n",
        "    func_loc = add_functional_location_tag_individual(\n",
        "        row, mwo_name, select_item('pump'))\n",
        "    labor = add_labour_cost(row, mwo_name)\n",
        "    material = add_material_cost(row, mwo_name)\n",
        "    maint_type = add_maintenance_type(row, mwo_name)\n",
        "    activity = add_activity_individual(row, mwo_name)\n",
        "    wo_execution_event = add_wo_execution_event(\n",
        "        row, mwo_name, activity, item_indiv)\n",
        "\n",
        "    with onto:\n",
        "        mwo = wo.MaintenanceWorkOrderRecord(mwo_name)\n",
        "        AllDifferent([mwo, date, work_order, func_loc, labor,\n",
        "                      material, maint_type, activity, wo_execution_event])\n",
        "        mwo.hasDataField.append(date)\n",
        "        mwo.hasDataField.append(work_order)\n",
        "        mwo.hasDataField.append(func_loc)\n",
        "        mwo.hasDataField.append(labor)\n",
        "        mwo.hasDataField.append(material)\n",
        "        mwo.hasDataField.append(maint_type)\n",
        "        mwo.describes.append(activity)\n",
        "        mwo.describes.append(wo_execution_event)\n",
        "        mwo.isInputOfAtSomeTime.append(wo_execution_event)\n",
        "\n",
        "    print(f'Sucessfully populated MWO {index}')"
      ],
      "metadata": {
        "id": "OT-OyQL07iKj"
      },
      "execution_count": 10,
      "outputs": []
    },
    {
      "cell_type": "markdown",
      "source": [
        "For the sake of time we will just populate a singular MWO, but you could run the function in a loop to populate with entries in the excel sheet."
      ],
      "metadata": {
        "id": "zhk2djY27nJV"
      }
    },
    {
      "cell_type": "code",
      "source": [
        "mwo_num = 1;\n",
        "mwo_entry = data_frame.iloc[mwo_num]\n",
        "populate_single(mwo_num, mwo_entry)"
      ],
      "metadata": {
        "id": "NqkvP0Qib30l",
        "colab": {
          "base_uri": "https://localhost:8080/"
        },
        "outputId": "ebacd1e9-6ef9-475d-bfea-154b91318e6f"
      },
      "execution_count": 36,
      "outputs": [
        {
          "output_type": "stream",
          "name": "stdout",
          "text": [
            "Populating MWO 1\n",
            "Sucessfully populated MWO 1\n"
          ]
        }
      ]
    },
    {
      "cell_type": "markdown",
      "source": [
        "### Save the ontology\n",
        "\n",
        "The final step is to save the instantiated MWO ontology to a file in RDF/XML serialisation of an OWL file."
      ],
      "metadata": {
        "id": "n0bzqpR2R0sl"
      }
    },
    {
      "cell_type": "code",
      "source": [
        "def save_ontology(filename, save_merged=False):\n",
        "    ont_to_save = owlready2.default_world if save_merged else onto\n",
        "    ont_to_save.save(file=filename, format=\"rdfxml\")\n",
        "    print(f'Sucessfully saved {filename}')"
      ],
      "metadata": {
        "id": "Kp4Ali5MR3La"
      },
      "execution_count": 37,
      "outputs": []
    },
    {
      "cell_type": "code",
      "source": [
        "save_ontology(\"../data/tutorial-example-\" + str(mwo_num) + \".owl\", True)"
      ],
      "metadata": {
        "id": "WgYx2gTabhf6",
        "colab": {
          "base_uri": "https://localhost:8080/"
        },
        "outputId": "5b22098f-401e-4442-a0df-df96ae564894"
      },
      "execution_count": 38,
      "outputs": [
        {
          "output_type": "stream",
          "name": "stdout",
          "text": [
            "Sucessfully saved ../data/tutorial-example-1.owl\n"
          ]
        }
      ]
    },
    {
      "cell_type": "markdown",
      "source": [
        "### Populated MWO"
      ],
      "metadata": {
        "id": "XyXW-oFGAbiV"
      }
    },
    {
      "cell_type": "code",
      "source": [
        "onto = get_ontology(\"../data/tutorial-example-0.owl\").load()\n"
      ],
      "metadata": {
        "id": "b4ojcbYwAfV1"
      },
      "execution_count": 39,
      "outputs": []
    },
    {
      "cell_type": "markdown",
      "source": [
        "The following command allows you to see all individuals in the ontology and its imports. The word before the . indicates the ontology the individual is from."
      ],
      "metadata": {
        "id": "fZR_cbBCffNv"
      }
    },
    {
      "cell_type": "code",
      "source": [
        "for i in list(Thing.instances()):\n",
        "  print(i)"
      ],
      "metadata": {
        "colab": {
          "base_uri": "https://localhost:8080/"
        },
        "id": "HOfEi0U8A4k5",
        "outputId": "35046b48-2f24-4533-c8bd-4bd803832208"
      },
      "execution_count": 40,
      "outputs": [
        {
          "output_type": "stream",
          "name": "stdout",
          "text": [
            "maintenance-activity.measure\n",
            "asset-data.flow_meter_001\n",
            "asset-data.motor_001\n",
            "asset-data.oil_001\n",
            "asset-data.pressure_switch_001\n",
            "asset-data.pump_001\n",
            "asset-data.pump_001_control_system\n",
            "asset-data.pump_001_driver_system\n",
            "asset-data.pump_001_lub_system\n",
            "asset-data.pump_001_piping_system\n",
            "asset-data.pump_001_unit\n",
            "asset-data.valve_001\n",
            "asset-data.seal_001\n",
            "asset-data.MWO-1_started_date\n",
            "asset-data.MWO-1_description\n",
            "asset-data.MWO-1_functional_location_tag\n",
            "asset-data.MWO-1_labour_cost\n",
            "asset-data.MWO-1_material_cost\n",
            "asset-data.MWO-1_maintenance_type\n",
            "asset-data.MWO-1_activity\n",
            "asset-data.MWO-1_wo_execution_event\n",
            "asset-data.MWO-1\n",
            "maintenance-activity.measure\n",
            "asset-data.flow_meter_001\n",
            "asset-data.motor_001\n",
            "asset-data.oil_001\n",
            "asset-data.pressure_switch_001\n",
            "asset-data.pump_001\n",
            "asset-data.pump_001_control_system\n",
            "asset-data.pump_001_driver_system\n",
            "asset-data.pump_001_lub_system\n",
            "asset-data.pump_001_piping_system\n",
            "asset-data.pump_001_unit\n",
            "asset-data.valve_001\n",
            "asset-data.seal_001\n",
            "asset-data.MWO-1_started_date\n",
            "asset-data.MWO-1_description\n",
            "asset-data.MWO-1_functional_location_tag\n",
            "asset-data.MWO-1_labour_cost\n",
            "asset-data.MWO-1_material_cost\n",
            "asset-data.MWO-1_maintenance_type\n",
            "asset-data.MWO-1_activity\n",
            "asset-data.MWO-1_wo_execution_event\n",
            "asset-data.MWO-1\n"
          ]
        }
      ]
    },
    {
      "cell_type": "markdown",
      "source": [
        "## Population Script\n",
        "\n",
        "Alternatively, just run the provided script to automatically populate the MWOs in the excel sheet. The scripts for this are in the GitHub folder called population_script. This will allow users to run the command directly in a terminal."
      ],
      "metadata": {
        "id": "8L1tiN6GJED5"
      }
    },
    {
      "cell_type": "code",
      "source": [
        "command = \"python runner.py %s %s\" % (1, True)\n",
        "result = subprocess.run(command, shell=True, capture_output=True, text=True)\n",
        "print(\"Output:\", result.stdout)"
      ],
      "metadata": {
        "id": "46WSMvWFagJW",
        "colab": {
          "base_uri": "https://localhost:8080/"
        },
        "outputId": "457e298e-4b62-4c10-94fa-d37dbe6ef54a"
      },
      "execution_count": null,
      "outputs": [
        {
          "output_type": "stream",
          "name": "stdout",
          "text": [
            "Output: Starting Population Script\n",
            "loaded\n",
            "populating index + 0\n",
            "Starting Population Script\n",
            "loaded\n",
            "populating index + 1\n",
            "Starting Population Script\n",
            "loaded\n",
            "populating index + 2\n",
            "Starting Population Script\n",
            "loaded\n",
            "populating index + 3\n",
            "Starting Population Script\n",
            "loaded\n",
            "populating index + 4\n",
            "Starting Population Script\n",
            "loaded\n",
            "populating index + 5\n",
            "Starting Population Script\n",
            "loaded\n",
            "populating index + 6\n",
            "Starting Population Script\n",
            "loaded\n",
            "populating index + 7\n",
            "Starting Population Script\n",
            "loaded\n",
            "populating index + 8\n",
            "Starting Population Script\n",
            "loaded\n",
            "populating index + 9\n",
            "Starting Population Script\n",
            "loaded\n",
            "populating index + 10\n",
            "Starting Population Script\n",
            "loaded\n",
            "populating index + 11\n",
            "Starting Population Script\n",
            "loaded\n",
            "populating index + 12\n",
            "Starting Population Script\n",
            "loaded\n",
            "populating index + 13\n",
            "Starting Population Script\n",
            "loaded\n",
            "populating index + 14\n",
            "Starting Population Script\n",
            "loaded\n",
            "populating index + 15\n",
            "Starting Population Script\n",
            "loaded\n",
            "populating index + 16\n",
            "Starting Population Script\n",
            "loaded\n",
            "populating index + 17\n",
            "Starting Population Script\n",
            "loaded\n",
            "populating index + 18\n",
            "Starting Population Script\n",
            "loaded\n",
            "populating index + 19\n",
            "Starting Population Script\n",
            "loaded\n",
            "populating index + 20\n",
            "Starting Population Script\n",
            "loaded\n",
            "populating index + 21\n",
            "Starting Population Script\n",
            "loaded\n",
            "populating index + 22\n",
            "Starting Population Script\n",
            "loaded\n",
            "populating index + 23\n",
            "Starting Population Script\n",
            "loaded\n",
            "populating index + 24\n",
            "Starting Population Script\n",
            "loaded\n",
            "populating index + 25\n",
            "Starting Population Script\n",
            "loaded\n",
            "populating index + 26\n",
            "Starting Population Script\n",
            "loaded\n",
            "populating index + 27\n",
            "Starting Population Script\n",
            "loaded\n",
            "populating index + 28\n",
            "Starting Population Script\n",
            "loaded\n",
            "populating index + 29\n",
            "Starting Population Script\n",
            "loaded\n",
            "populating index + 30\n",
            "Starting Population Script\n",
            "loaded\n",
            "populating index + 31\n",
            "Starting Population Script\n",
            "loaded\n",
            "populating index + 32\n",
            "Starting Population Script\n",
            "loaded\n",
            "populating index + 33\n",
            "Starting Population Script\n",
            "loaded\n",
            "populating index + 34\n",
            "Starting Population Script\n",
            "loaded\n",
            "populating index + 35\n",
            "\n"
          ]
        }
      ]
    },
    {
      "cell_type": "markdown",
      "source": [
        "## Reasoning Across Instance Data\n",
        "\n",
        "The quality of MWO  data is an unsolved problem that is imperative for downstream statistical tasks such as mean-time-to-failure analyses. However, maintenance engineers rarely spend time checking the quality of this data, as there is no widely-accepted, repeatable manner to perform this task. The application ontology uses SWRL rules and ontological classification to provide a structured and repeatable way for organisations to assess the quality of maintenance work orders that reflects the logic currently used by engineers performing this task in industry.\n",
        "\n",
        "\n",
        "(taken from paper)"
      ],
      "metadata": {
        "id": "Iw23Dy1yE39l"
      }
    },
    {
      "cell_type": "markdown",
      "source": [
        "### Setup Enviroment"
      ],
      "metadata": {
        "id": "4XztjsqtMQAg"
      }
    },
    {
      "cell_type": "code",
      "source": [
        "# Set Java memory for reasoning\n",
        "owlready2.reasoning.JAVA_MEMORY = 4000\n",
        "\n",
        "# Specify ontology paths\n",
        "onto_path.append('../imports')\n",
        "onto_path.append('../data')\n",
        "onto_path.append('../')\n",
        "\n",
        "classifications = []\n",
        "non_matching = []\n",
        "records = []\n",
        "\n",
        "# Initialize Owlready2 World\n",
        "the_world = World()"
      ],
      "metadata": {
        "id": "BZS-iP84MdU2"
      },
      "execution_count": 41,
      "outputs": []
    },
    {
      "cell_type": "markdown",
      "source": [
        "### Load MWO Instance\n",
        "\n",
        "For the purpose of time efficiency, we will only run the reasoning across the singular instantiated MWO ontology."
      ],
      "metadata": {
        "id": "CgR3_RpFMwlq"
      }
    },
    {
      "cell_type": "code",
      "source": [
        "# Load ontology for the current record\n",
        "onto = the_world.get_ontology(\n",
        "    \"../data/tutorial-example-0.owl\").load(only_local=True)\n",
        "    # \"../data/populated-data-0.owl\").load(only_local=True)\n",
        "\n",
        "\n",
        "# Define namespaces\n",
        "data = onto.get_namespace('http://www.semanticweb.org/data#')\n",
        "rules = onto.get_namespace(\n",
        "    'http://www.semanticweb.org/maintenance-activity-classification-rules#')\n",
        "activity = onto.get_namespace(\n",
        "    'http://www.semanticweb.org/maintenance-activity#')\n",
        "work_order = onto.get_namespace(\n",
        "    'http://www.semanticweb.org/work-order-ontology#')\n",
        "func_breakdown = onto.get_namespace(\n",
        "    'http://www.semanticweb.org/functional-breakdown-pump-ontology#')\n",
        "asset_classes = onto.get_namespace(\n",
        "    'http://www.semanticweb.org/asset-list-ontology#')"
      ],
      "metadata": {
        "id": "TJe7hEKPMwED"
      },
      "execution_count": 42,
      "outputs": []
    },
    {
      "cell_type": "markdown",
      "source": [
        "### Perform reasoning\n",
        "\n",
        "The Pellet reasoner from the python owlready2 library is used. There can be some inconsistency in the output occasionally (exact cause is unknown) where the activity classifications are not inferred and so we will run the pellet reasoner twice if it detects such an occurrence.\n",
        "The reasoner is determining the activity type."
      ],
      "metadata": {
        "id": "_L9G41QNNKay"
      }
    },
    {
      "cell_type": "code",
      "source": [
        "with onto:\n",
        "  sync_reasoner_pellet(the_world, infer_property_values=True,\n",
        "                        infer_data_property_values=True)\n",
        "\n",
        "  # Retry reasoning if not successful\n",
        "  if len(data['MWO-1_activity'].is_a) <= 2:\n",
        "      sync_reasoner_pellet(the_world, infer_property_values=True,\n",
        "                            infer_data_property_values=True)"
      ],
      "metadata": {
        "id": "zmSvAN6pNRTZ",
        "colab": {
          "base_uri": "https://localhost:8080/"
        },
        "outputId": "665dc66e-529c-462a-cffc-a91d6dee809f"
      },
      "execution_count": 43,
      "outputs": [
        {
          "output_type": "stream",
          "name": "stderr",
          "text": [
            "* Owlready2 * Running Pellet...\n",
            "    java -Xmx4000M -cp /usr/local/lib/python3.10/dist-packages/owlready2/pellet/pellet-2.3.1.jar:/usr/local/lib/python3.10/dist-packages/owlready2/pellet/log4j-api-2.19.0.jar:/usr/local/lib/python3.10/dist-packages/owlready2/pellet/httpclient-4.2.3.jar:/usr/local/lib/python3.10/dist-packages/owlready2/pellet/xercesImpl-2.10.0.jar:/usr/local/lib/python3.10/dist-packages/owlready2/pellet/jena-arq-2.10.0.jar:/usr/local/lib/python3.10/dist-packages/owlready2/pellet/jena-tdb-0.10.0.jar:/usr/local/lib/python3.10/dist-packages/owlready2/pellet/commons-codec-1.6.jar:/usr/local/lib/python3.10/dist-packages/owlready2/pellet/slf4j-log4j12-1.6.4.jar:/usr/local/lib/python3.10/dist-packages/owlready2/pellet/log4j-core-2.19.0.jar:/usr/local/lib/python3.10/dist-packages/owlready2/pellet/jena-core-2.10.0.jar:/usr/local/lib/python3.10/dist-packages/owlready2/pellet/slf4j-api-1.6.4.jar:/usr/local/lib/python3.10/dist-packages/owlready2/pellet/xml-apis-1.4.01.jar:/usr/local/lib/python3.10/dist-packages/owlready2/pellet/antlr-3.2.jar:/usr/local/lib/python3.10/dist-packages/owlready2/pellet/httpcore-4.2.2.jar:/usr/local/lib/python3.10/dist-packages/owlready2/pellet/owlapi-distribution-3.4.3-bin.jar:/usr/local/lib/python3.10/dist-packages/owlready2/pellet/jcl-over-slf4j-1.6.4.jar:/usr/local/lib/python3.10/dist-packages/owlready2/pellet/antlr-runtime-3.2.jar:/usr/local/lib/python3.10/dist-packages/owlready2/pellet/aterm-java-1.6.jar:/usr/local/lib/python3.10/dist-packages/owlready2/pellet/jena-iri-0.9.5.jar:/usr/local/lib/python3.10/dist-packages/owlready2/pellet/jgrapht-jdk1.5.jar:/usr/local/lib/python3.10/dist-packages/owlready2/pellet/log4j-1.2-api-2.19.0.jar pellet.Pellet realize --loader Jena --input-format N-Triples --infer-prop-values --infer-data-prop-values --ignore-imports /tmp/tmpsc92vojy\n",
            "* Owlready2 * Pellet took 63.29091763496399 seconds\n",
            "* Owlready * (NB: only changes on entities loaded in Python are shown, other changes are done but not listed)\n",
            "* Owlready2 * Running Pellet...\n",
            "    java -Xmx4000M -cp /usr/local/lib/python3.10/dist-packages/owlready2/pellet/pellet-2.3.1.jar:/usr/local/lib/python3.10/dist-packages/owlready2/pellet/log4j-api-2.19.0.jar:/usr/local/lib/python3.10/dist-packages/owlready2/pellet/httpclient-4.2.3.jar:/usr/local/lib/python3.10/dist-packages/owlready2/pellet/xercesImpl-2.10.0.jar:/usr/local/lib/python3.10/dist-packages/owlready2/pellet/jena-arq-2.10.0.jar:/usr/local/lib/python3.10/dist-packages/owlready2/pellet/jena-tdb-0.10.0.jar:/usr/local/lib/python3.10/dist-packages/owlready2/pellet/commons-codec-1.6.jar:/usr/local/lib/python3.10/dist-packages/owlready2/pellet/slf4j-log4j12-1.6.4.jar:/usr/local/lib/python3.10/dist-packages/owlready2/pellet/log4j-core-2.19.0.jar:/usr/local/lib/python3.10/dist-packages/owlready2/pellet/jena-core-2.10.0.jar:/usr/local/lib/python3.10/dist-packages/owlready2/pellet/slf4j-api-1.6.4.jar:/usr/local/lib/python3.10/dist-packages/owlready2/pellet/xml-apis-1.4.01.jar:/usr/local/lib/python3.10/dist-packages/owlready2/pellet/antlr-3.2.jar:/usr/local/lib/python3.10/dist-packages/owlready2/pellet/httpcore-4.2.2.jar:/usr/local/lib/python3.10/dist-packages/owlready2/pellet/owlapi-distribution-3.4.3-bin.jar:/usr/local/lib/python3.10/dist-packages/owlready2/pellet/jcl-over-slf4j-1.6.4.jar:/usr/local/lib/python3.10/dist-packages/owlready2/pellet/antlr-runtime-3.2.jar:/usr/local/lib/python3.10/dist-packages/owlready2/pellet/aterm-java-1.6.jar:/usr/local/lib/python3.10/dist-packages/owlready2/pellet/jena-iri-0.9.5.jar:/usr/local/lib/python3.10/dist-packages/owlready2/pellet/jgrapht-jdk1.5.jar:/usr/local/lib/python3.10/dist-packages/owlready2/pellet/log4j-1.2-api-2.19.0.jar pellet.Pellet realize --loader Jena --input-format N-Triples --infer-prop-values --infer-data-prop-values --ignore-imports /tmp/tmpah6hzgrs\n",
            "* Owlready2 * Pellet took 57.77188324928284 seconds\n",
            "* Owlready * Reparenting data.MWO-1_activity: {maintenance-activity-classification-rules.MaintenanceSupportingOrUnspecifiedActivity} => {maintenance-activity-classification-rules.RepairOrReplace, maintenance-activity-classification-rules.UncertainActivity}\n",
            "* Owlready * Reparenting maintenance-activity.MaintenanceActivity: {maintenance-activity-classification-rules.MaintenanceSupportingOrUnspecifiedActivity, obo.BFO_0000015} => {maintenance-activity-classification-rules.MaintenanceSupportingOrUnspecifiedActivity}\n",
            "* Owlready * Reparenting maintenance-activity-classification-rules.CorrectiveAction: {obo.BFO_0000015, maintenance-activity.MaintenanceActivity} => {maintenance-activity.MaintenanceActivity}\n",
            "* Owlready * Reparenting maintenance-activity-classification-rules.RepairOrReplace: {obo.BFO_0000015, maintenance-activity-classification-rules.CorrectiveAction} => {maintenance-activity-classification-rules.CorrectiveAction}\n",
            "* Owlready * (NB: only changes on entities loaded in Python are shown, other changes are done but not listed)\n"
          ]
        }
      ]
    },
    {
      "cell_type": "markdown",
      "source": [
        "### Post-Reasoning Queries"
      ],
      "metadata": {
        "id": "fSIx6_oBNgcp"
      }
    },
    {
      "cell_type": "markdown",
      "source": [
        "#### SPARQL Query for Non-Matching Activity Types"
      ],
      "metadata": {
        "id": "MRCxBLyjLeO4"
      }
    },
    {
      "cell_type": "code",
      "source": [
        "def query_not_matching(world):\n",
        "    \"\"\"SPARQL query to find non-matching activity types\"\"\"\n",
        "\n",
        "    query = \"\"\"\n",
        "    PREFIX core:<http://www.industrialontologies.org/core/>\n",
        "    PREFIX activity:<http://www.semanticweb.org/maintenance-activity#>\n",
        "    PREFIX work:<http://www.semanticweb.org/work-order-ontology#>\n",
        "    PREFIX macr:<http://www.semanticweb.org/maintenance-activity-classification-rules#>\n",
        "    SELECT DISTINCT ?activity ?clazz ?nlpActivityType\n",
        "    WHERE {\n",
        "        ?activity a/rdfs:subClassOf* macr:InferredActivity ;\n",
        "            a ?clazz .\n",
        "        FILTER isIRI( ?clazz )\n",
        "        FILTER ( ?clazz != macr:InferredActivity && ?clazz != macr:UncertainActivity && ?clazz != macr:MaintenanceSupportingOrUnspecifiedActivity )\n",
        "        FILTER NOT EXISTS { ?activity a/rdfs:subClassOf* macr:InferredActivityTypeMatchesWorkOrderDescription }\n",
        "        OPTIONAL {\n",
        "            ?activity core:describedBy|^core:describes ?_record .\n",
        "            ?_record work:refersTo ?nlpActivityType .\n",
        "            ?nlpActivityType rdfs:subClassOf+ activity:MaintenanceActivity .\n",
        "        }\n",
        "    }\n",
        "    \"\"\"\n",
        "    results = world.sparql(query)\n",
        "    # filter the extraneous references to the number '12'\n",
        "    return [r for r in results if not isinstance(r[1], int)]"
      ],
      "metadata": {
        "id": "YsSYK-YgLlEw"
      },
      "execution_count": 44,
      "outputs": []
    },
    {
      "cell_type": "markdown",
      "source": [
        "#### SPARQL Query for Records and Classifications"
      ],
      "metadata": {
        "id": "5Nw1KEBfLsJi"
      }
    },
    {
      "cell_type": "code",
      "source": [
        "def query_records_and_classifications(world):\n",
        "    \"\"\"\n",
        "    SPARQL query for retreiving the record details plus the resolved activity type and activity classification\n",
        "    \"\"\"\n",
        "\n",
        "    query = \"\"\"\n",
        "    PREFIX core:<http://www.industrialontologies.org/core/>\n",
        "    PREFIX activity:<http://www.semanticweb.org/maintenance-activity#>\n",
        "    PREFIX work:<http://www.semanticweb.org/work-order-ontology#>\n",
        "    PREFIX macr:<http://www.semanticweb.org/maintenance-activity-classification-rules#>\n",
        "    SELECT DISTINCT ?record ?tag_name ?tagged_item ?text ?activity ?item ?unit ?labour_cost ?material_cost ?date_time ?maint_type ?activityType ?nlpActivityRef\n",
        "    WHERE {\n",
        "        ?record a work:MaintenanceWorkOrderRecord ;\n",
        "            work:hasDataField ?_tag ;\n",
        "            work:hasDataField ?description ;\n",
        "            work:hasDataField ?labour ;\n",
        "            work:hasDataField ?material ;\n",
        "            work:hasDataField ?date ;\n",
        "            work:hasDataField ?_maint_type .\n",
        "        ?_tag a work:WorkOrderFunctionalLocationTag ;\n",
        "            work:refersTo ?tagged_item .\n",
        "        OPTIONAL {\n",
        "            ?_tag work:hasValue ?tag_name ;\n",
        "        }\n",
        "        ?description a work:WorkOrderDescriptionText ;\n",
        "            work:hasValue ?text ;\n",
        "            macr:nlpIdentifiedActivity ?activity ;\n",
        "            macr:nlpIdentifiedItem ?item ;\n",
        "            macr:nlpIdentifiedSubunit ?unit .\n",
        "        ?labour a work:WorkOrderLabourCost ;\n",
        "            work:hasValue ?labour_cost .\n",
        "        ?material a work:WorkOrderMaterialCost ;\n",
        "            work:hasValue ?material_cost .\n",
        "        ?date a work:WorkOrderStartedDate ;\n",
        "            work:hasValue ?date_time .\n",
        "        ?_maint_type a work:WorkOrderMaintenanceType ;\n",
        "            a ?maint_type .\n",
        "        ?maint_type rdfs:subClassOf work:WorkOrderMaintenanceType .\n",
        "        OPTIONAL {\n",
        "            ?record core:describes ?_activity .\n",
        "            ?_activity a ?activityType .\n",
        "            ?activityType rdfs:subClassOf+ activity:MaintenanceActivity .\n",
        "        }\n",
        "        OPTIONAL {\n",
        "            ?description work:refersTo ?nlpActivityRef .\n",
        "            ?nlpActivityRef rdfs:subClassOf+ activity:MaintenanceActivity .\n",
        "        }\n",
        "    }\n",
        "    \"\"\"\n",
        "    results = world.sparql(query)\n",
        "    return list(results)"
      ],
      "metadata": {
        "id": "pNTes_aiLtXK"
      },
      "execution_count": 25,
      "outputs": []
    },
    {
      "cell_type": "markdown",
      "source": [
        "### Running the Queries"
      ],
      "metadata": {
        "id": "iX-8DmbllBlR"
      }
    },
    {
      "cell_type": "code",
      "source": [
        "def simplify_results(results: List[List[ThingClass]]) -> List[List[str]]:\n",
        "    \"\"\"Reduces the owlready2 objects to short name strings\"\"\"\n",
        "    return [[o.name if hasattr(o, 'name') else str(o) for o in r] for r in results]"
      ],
      "metadata": {
        "id": "NCGmj21ToQg-"
      },
      "execution_count": 26,
      "outputs": []
    },
    {
      "cell_type": "code",
      "source": [
        "# Query non-matching activities\n",
        "i_results = query_not_matching(the_world)\n",
        "non_matching.extend(simplify_results(i_results))\n",
        "\n",
        "# Query records and classifications\n",
        "r_results = query_records_and_classifications(the_world)\n",
        "records.extend(simplify_results(r_results))\n",
        "\n",
        "# Extract and store classifiers\n",
        "classifiers = simplify_results([data[f'MWO-1_activity'].is_a])\n",
        "classifications.append((f'MWO-1_activity', classifiers[0]))\n",
        "\n",
        "# Print results\n",
        "print('= All Activity Classifications')\n",
        "print('  id, list of classifiers (including anonymous)')\n",
        "print(\"\\n\".join([str(c) for c in classifications]), end=\"\\n\\n\")\n",
        "\n",
        "print('= Activity classifications not matching Activity Term from text')\n",
        "print('  activity id, shortened classifier, term')\n",
        "print(\"\\n\".join([str(n) for n in non_matching]), end=\"\\n\\n\")\n",
        "\n",
        "print('= MWO Records with Activity Classifications')\n",
        "print('  ?record, ?tag_name, ?tagged_item, ?text, ?activity, ?item, ?unit, ?labour_cost, ?material_cost, ?date_time, ?maint_type, ?activityType, ?nlpActivityRef')\n",
        "print(\"\\n\".join([str(r) for r in records]))\n"
      ],
      "metadata": {
        "id": "y21HxRlBlDkm",
        "colab": {
          "base_uri": "https://localhost:8080/"
        },
        "outputId": "51316635-c75f-4a88-f8ae-b76c1ceae78c"
      },
      "execution_count": 27,
      "outputs": [
        {
          "output_type": "stream",
          "name": "stdout",
          "text": [
            "= All Activity Classifications\n",
            "  id, list of classifiers (including anonymous)\n",
            "('MWO-1_activity', ['UncertainActivity', 'RepairOrReplace', 'maintenance-activity.MaintenanceActivity | maintenance-activity.SupportingActivity'])\n",
            "\n",
            "= Activity classifications not matching Activity Term from text\n",
            "  activity id, shortened classifier, term\n",
            "['MWO-1_activity', 'NamedIndividual', 'None']\n",
            "['MWO-1_activity', 'RepairOrReplace', 'None']\n",
            "\n",
            "= MWO Records with Activity Classifications\n",
            "  ?record, ?tag_name, ?tagged_item, ?text, ?activity, ?item, ?unit, ?labour_cost, ?material_cost, ?date_time, ?maint_type, ?activityType, ?nlpActivityRef\n",
            "['MWO-1', 'PU001', 'pump_001', 'pressure switch undersize', 'none', 'PressureSwitch', 'ControlAndMonitoringSystem', '560', '821', '2012-10-18 00:00:00', 'WorkOrderCorrectiveMaintenance', 'RepairOrReplace', 'None']\n"
          ]
        }
      ]
    },
    {
      "cell_type": "markdown",
      "source": [
        "## Reasoning Script\n",
        "\n",
        "Alternatively, you can just run the provided script to automatically perform reasoning across the MWOs in the excel sheet.\n",
        "\n",
        "The reasoning script can be run across all records, and individual record, or some subset of records. For example, running the command\n",
        "\n",
        "\n",
        "```\n",
        "python runner.py\n",
        "```\n",
        "\n",
        "\n",
        "will run the full set (1-36), while\n",
        "\n",
        "\n",
        "```\n",
        "python runner.py 3 12\n",
        "```\n",
        "\n",
        "will run the third to twelfth records. The last argument can be omitted to run until the end, e.g., third to 36th record if omitted from the above example. Finally, the following would run only the second record:\n",
        "\n",
        "```\n",
        "python runner.py 2 2\n",
        "```"
      ],
      "metadata": {
        "id": "i2G8aECpcth_"
      }
    },
    {
      "cell_type": "code",
      "source": [
        "# Specify the directory containing the runner.py script\n",
        "directory_path = \"/content/Paper_Archive_Maintenance_Activity/reasoning_script/\"\n",
        "\n",
        "# Change the current working directory\n",
        "os.chdir(directory_path)"
      ],
      "metadata": {
        "id": "BfpBDalsE6yS"
      },
      "execution_count": null,
      "outputs": []
    },
    {
      "cell_type": "code",
      "source": [
        "command = \"python runner.py %s %s\" % (1, 1)\n",
        "result = subprocess.run(command, shell=True, capture_output=True, text=True)\n",
        "print(\"Output:\", result.stdout)"
      ],
      "metadata": {
        "id": "wPvYrEEqo478"
      },
      "execution_count": null,
      "outputs": []
    }
  ]
}